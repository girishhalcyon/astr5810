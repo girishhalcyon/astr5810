{
 "cells": [
  {
   "cell_type": "markdown",
   "metadata": {},
   "source": [
    "<font color='seagreen'>\n",
    "\n",
    "\n",
    "# Week 2 -- Vertical Structure of an Atmosphere\n",
    "*Please finish and submit this project before the start of class on 13 September 2017.*\n",
    "\n",
    "This week, we will play with the vertical structure of atmospheres, from both theoretical and observational perspectives. We'll also introduce some of the useful tools (like unit conversions!) included in the community-developed [astropy](http://docs.astropy.org/en/stable/index.html) Python library."
   ]
  },
  {
   "cell_type": "code",
   "execution_count": null,
   "metadata": {
    "collapsed": true
   },
   "outputs": [],
   "source": [
    "# gain access to numerical tools\n",
    "import numpy as np\n",
    "\n",
    "# gain access to plotting tools \n",
    "import matplotlib.pyplot as plt \n",
    "\n",
    "# set up bigger default plots\n",
    "plt.matplotlib.rcParams['figure.figsize'] = (10,7)\n",
    "plt.matplotlib.rcParams['font.size'] = 12\n",
    "\n",
    "# make plots show up in the notebook\n",
    "%matplotlib inline"
   ]
  },
  {
   "cell_type": "markdown",
   "metadata": {},
   "source": [
    "<font color='seagreen'>\n",
    "\n",
    "### Q1: Atmospheric Scale Heights\n",
    "\n",
    "Calculate the scale height of Jupiter's atmosphere, assuming a temperature of 130K, a composition of 85% molecular hydrogen and 15% helium. Use the [`constants`](http://docs.astropy.org/en/stable/constants/index.html) and [`units`](http://docs.astropy.org/en/stable/units/index.html) packages from the community [`astropy`](http://docs.astropy.org/en/stable/index.html) Python library to access the physical constants you need and to handle your unit conversions. *Hint: Jupiter is 1.0 Jupiter radii, and 1.0 Jupiter masses.*"
   ]
  },
  {
   "cell_type": "code",
   "execution_count": null,
   "metadata": {},
   "outputs": [],
   "source": [
    "# import the constants and units packages from astropy\n",
    "from astropy import constants, units\n",
    "\n",
    "# this gives us access to useful constants and units\n",
    "print(constants.k_B)"
   ]
  },
  {
   "cell_type": "code",
   "execution_count": null,
   "metadata": {},
   "outputs": [],
   "source": [
    "# define some variables, with units!\n",
    "temperature = 130*units.K\n",
    "k_B = constants.k_B\n",
    "kT = k_B*temperature\n",
    "\n",
    "# see some examples of units in action\n",
    "print('''\n",
    "Example of astropy units:\n",
    "\n",
    "    The temperature is {}.\n",
    "    Boltzmann's constant is {}.\n",
    "    The product of these two is {:.2g}.\n",
    "      In cgs, it would be {:.2g}.\n",
    "      In electron volts, it would be {:.2g}.\n",
    "'''.format(temperature, k_B, kT, kT.to('erg'), kT.to('eV'))\n",
    "     )"
   ]
  },
  {
   "cell_type": "code",
   "execution_count": null,
   "metadata": {
    "collapsed": true
   },
   "outputs": [],
   "source": []
  },
  {
   "cell_type": "markdown",
   "metadata": {},
   "source": [
    "<font color='seagreen'>\n",
    "### Q2: Vertical Profiles of Solar System Planets\n",
    "\n",
    "The plain-text data tables located in `verticalprofiles/` contain values for $P$, $T$, $\\rho$, and $z$ along vertical traces through the atmospheres of Venus, Earth, Mars, Jupiter, and Titan. Look at the format of those files and check out the `README`. Then, please do the following steps ***for every vertical profile***.\n",
    "\n",
    "+ Read in the table so that you have access to $P$, $T$, $\\rho$, $z$ as arrays in Python.\n",
    "+ Make a multipanel plot where pressure is the vertical coordinate on every panel, and the scale of the vertical axis is logarithmic. On the horizontal axes, please plot the following quantities (if they are not in the table, you will need to calculate them from the variables you do have).\n",
    "\n",
    "    1. altitude \n",
    "    2. temperature\n",
    "    3. density\n",
    "    4. the lapse rate $dT/dz$\n",
    "    5. the rate of change of pressure $dP/dz$\n",
    "    6. the mean molecular weight\n",
    "    \n",
    "    \n",
    "+ Calculate the dry adiabatic lapse rate. Based on these calculations, at what altitudes/pressures do expect convection is occuring? \n",
    "+ Discuss (at least) one interesting feature you see in each atmospheres. \n",
    "\n",
    "*The next five cells give you a few tips to get started.*"
   ]
  },
  {
   "cell_type": "code",
   "execution_count": null,
   "metadata": {
    "collapsed": true
   },
   "outputs": [],
   "source": [
    "# For reading tables, I like the flexibility of astropy's table tools, ...\n",
    "from astropy.io import ascii\n",
    "table = ascii.read('verticalprofiles/earth.txt')\n",
    "p = table['pressure']\n",
    "T = table['temperature']\n",
    "rho = table['density']\n",
    "z = table['altitude']"
   ]
  },
  {
   "cell_type": "code",
   "execution_count": null,
   "metadata": {
    "collapsed": true
   },
   "outputs": [],
   "source": [
    "# ...although some people prefer to read tables with genfromtxt.\n",
    "p, T, rho, z = np.genfromtxt('verticalprofiles/earth.txt', skip_header=1, delimiter='|').T"
   ]
  },
  {
   "cell_type": "code",
   "execution_count": null,
   "metadata": {},
   "outputs": [],
   "source": [
    "# For making multipanel plots, you can...\n",
    "# ...create a grid of \"axes\" objects into which you will place your plot\n",
    "fi, ax = plt.subplots(1,6,sharey=True, figsize=(12,4))\n",
    "\n",
    "# set current axis to the first of those\n",
    "plt.sca(ax[0])\n",
    "plt.plot([1,2,3], marker='.', markersize=20)\n",
    "\n",
    "# set current axis to the fourth of those\n",
    "plt.sca(ax[3])\n",
    "plt.plot([1,5,2], marker='.', markersize=20)"
   ]
  },
  {
   "cell_type": "code",
   "execution_count": null,
   "metadata": {},
   "outputs": [],
   "source": [
    "# If you have to do the same thing over again with different inputs,\n",
    "# defining a function might be a helpful trick!\n",
    "\n",
    "def shout(x):\n",
    "    print('{} is awesome!'.format(x))\n",
    "    \n",
    "shout('Cecelia Payne-Gaposkin')\n",
    "shout('Galileo Galilei')\n",
    "shout('Katherine Johnson')"
   ]
  },
  {
   "cell_type": "code",
   "execution_count": null,
   "metadata": {},
   "outputs": [],
   "source": [
    "# For calculating lapse rates, it may come in handy to use \n",
    "# the two modules that have been included alongside this notebook.\n",
    "import phys, planets\n",
    "\n",
    "print(\"\")\n",
    "print(\"The specific heat at constant pressure for CO2 is {} J/(kg K).\".format(phys.CO2.cp))\n",
    "print(\"The surface gravity of Titan is {} m/s**2. \".format(planets.Titan.g))"
   ]
  },
  {
   "cell_type": "code",
   "execution_count": null,
   "metadata": {
    "collapsed": true
   },
   "outputs": [],
   "source": []
  },
  {
   "cell_type": "markdown",
   "metadata": {},
   "source": [
    "<font color='seagreen'>\n",
    "\n",
    "### Q3: Above the Surface\n",
    "+ Analytically integrate the equation of hydrostatic equilibrium to derive an expression for the pressure, $p(z)$, as a function of altitude, $z$, in an atmosphere with a linearly decreasing temperature profile with altitude, such that $T(z)=T_{0}-mz$, where $m = dT/dz$ is the slope and $T_{0}$ is the “surface” temperature.  Assume gravity is constant over the altitudes you are considering. \n",
    "+ Using the above data for the tropospheres of Venus and Earth (pressures below about $0.1~bar$), compare how well you approximate the actual $p(z)$ using both (a) the assumption of an isothermal atmosphere and (b) your new expression for $p(z)$ along an adiabat. *Hint: to compare how well models work, it can help to make a plot of your data and your model(s). By how much does each model diverge from the data?*"
   ]
  },
  {
   "cell_type": "markdown",
   "metadata": {},
   "source": [
    "<font color='seagreen'>\n",
    "\n",
    "### Q4: Below the Surface\n",
    "+ Analytically integrate the equation of hydrostatic equilibrium to derive an expression for the pressure at the center of a planet with radius $R$ and mass $M$. Assume the density is constant with depth and ignore any contributions from an atmosphere. Recall that for a spherical object $g(R)$, the acceleration due to gravity at a radius $R$, can be written as\n",
    "$$ g(R) = \\frac{GM(R)}{R^2} $$\n",
    "where $M(R)$ is the total mass enclosed within the radius $R$. \n",
    "+ Based on your expression, what is the pressure at the center of the Earth?\n"
   ]
  }
 ],
 "metadata": {
  "anaconda-cloud": {},
  "kernelspec": {
   "display_name": "Python 3",
   "language": "python",
   "name": "python3"
  },
  "language_info": {
   "codemirror_mode": {
    "name": "ipython",
    "version": 3
   },
   "file_extension": ".py",
   "mimetype": "text/x-python",
   "name": "python",
   "nbconvert_exporter": "python",
   "pygments_lexer": "ipython3",
   "version": "3.6.1"
  }
 },
 "nbformat": 4,
 "nbformat_minor": 2
}
